{
 "cells": [
  {
   "cell_type": "markdown",
   "id": "202b80d3",
   "metadata": {},
   "source": [
    "# Final Project"
   ]
  },
  {
   "cell_type": "markdown",
   "id": "f9de19de",
   "metadata": {},
   "source": [
    "## Variables: stage and dischrage"
   ]
  },
  {
   "cell_type": "markdown",
   "id": "814ec83a",
   "metadata": {},
   "source": [
    "## Sites: Main Street & waterlab"
   ]
  },
  {
   "cell_type": "markdown",
   "id": "a079812c",
   "metadata": {},
   "source": [
    "#  loading packs"
   ]
  },
  {
   "cell_type": "code",
   "execution_count": null,
   "id": "259afa9e",
   "metadata": {},
   "outputs": [],
   "source": [
    "#%pip install statsmodels"
   ]
  },
  {
   "cell_type": "code",
   "execution_count": null,
   "id": "2bd867c5",
   "metadata": {
    "ExecuteTime": {
     "end_time": "2024-04-24T08:57:31.024458Z",
     "start_time": "2024-04-24T08:57:29.106512Z"
    }
   },
   "outputs": [],
   "source": [
    "import numpy as np \n",
    "import pandas as pd \n",
    "import matplotlib.pyplot as plt \n",
    "import os as os\n",
    "from scipy.stats.mstats import gmean #geometric mean function\n",
    "import scipy as sc #scipy is new for us and holds many scientific methods\n",
    "kde = sc.stats.gaussian_kde #renaming the gaussian_kde method as kde for ease of use.\n",
    "##https://docs.scipy.org/doc/scipy/reference/generated/scipy.stats.gaussian_kde.html\n",
    "##there is also a kde method within Scikit-learn as well.\n",
    "from matplotlib import rcParams\n",
    "import statsmodels.api as sm\n",
    "from scipy.stats import gmean\n",
    "from sklearn.linear_model import LinearRegression"
   ]
  },
  {
   "cell_type": "markdown",
   "id": "e1814e19",
   "metadata": {},
   "source": [
    "# loading datas"
   ]
  },
  {
   "cell_type": "code",
   "execution_count": null,
   "id": "aa8172e8",
   "metadata": {
    "ExecuteTime": {
     "end_time": "2024-04-24T08:57:32.731247Z",
     "start_time": "2024-04-24T08:57:31.032386Z"
    }
   },
   "outputs": [],
   "source": [
    "# Loading data\n",
    "\n",
    "# MainStreet station\n",
    "df_MS1=pd.read_csv('MainStreet_Discharge.csv',sep=',',comment = '#',parse_dates=['LocalDateTime'], index_col='LocalDateTime', na_values = '-9999')\n",
    "df_MS2=pd.read_csv('MainStreet_Stage.csv',sep=',',comment = '#',parse_dates=['LocalDateTime'], index_col='LocalDateTime', na_values = '-9999')\n",
    "\n",
    "# WaterLab station\n",
    "df_WL1=pd.read_csv('WaterLab_Discharge.csv',sep=',', comment = '#',parse_dates=['LocalDateTime'], index_col='LocalDateTime', na_values = '-9999')\n",
    "df_WL2=pd.read_csv('WaterLab_Stage.csv',sep=',', comment = '#',parse_dates=['LocalDateTime'], index_col='LocalDateTime', na_values = '-9999')"
   ]
  },
  {
   "cell_type": "markdown",
   "id": "16a2b8be",
   "metadata": {},
   "source": [
    "# Setting Font"
   ]
  },
  {
   "cell_type": "code",
   "execution_count": null,
   "id": "a19a4608",
   "metadata": {
    "ExecuteTime": {
     "end_time": "2024-04-24T08:57:32.736209Z",
     "start_time": "2024-04-24T08:57:32.733943Z"
    }
   },
   "outputs": [],
   "source": [
    "# Set the font globally to Times New Roman\n",
    "rcParams['font.family'] = 'serif'\n",
    "rcParams['font.serif'] = ['Arial']\n",
    "\n",
    "myfont='Arial'"
   ]
  },
  {
   "cell_type": "markdown",
   "id": "df2cfbbd",
   "metadata": {},
   "source": [
    "# 1.1: Satge vs Discharge"
   ]
  },
  {
   "cell_type": "code",
   "execution_count": null,
   "id": "649a3710",
   "metadata": {
    "ExecuteTime": {
     "end_time": "2024-04-24T08:57:32.739478Z",
     "start_time": "2024-04-24T08:57:32.737092Z"
    }
   },
   "outputs": [],
   "source": [
    "print(len(df_MS1), len(df_MS2))\n",
    "print(len(df_WL1), len(df_WL2))"
   ]
  },
  {
   "cell_type": "code",
   "execution_count": null,
   "id": "d7330b0c",
   "metadata": {
    "ExecuteTime": {
     "end_time": "2024-04-24T08:57:32.742084Z",
     "start_time": "2024-04-24T08:57:32.740130Z"
    }
   },
   "outputs": [],
   "source": [
    " df_MS1 = df_MS1[:-1]  # Removes the last element from df_MS1\n",
    " df_WL2 = df_WL2[:-5]  # Removes the 5 element from df_WL2"
   ]
  },
  {
   "cell_type": "code",
   "execution_count": null,
   "id": "d6ddd77e",
   "metadata": {
    "ExecuteTime": {
     "end_time": "2024-04-24T08:57:34.947721Z",
     "start_time": "2024-04-24T08:57:32.742528Z"
    },
    "scrolled": false
   },
   "outputs": [],
   "source": [
    "# Increase the figure size and set higher resolution\n",
    "plt.figure(figsize=(12, 6), dpi=300)\n",
    "\n",
    "# First subplot\n",
    "ax1 = plt.subplot(1, 2, 1)  # 1 row, 2 columns, 1st subplot\n",
    "ax1.scatter(df_MS1.Discharge_cms, df_MS2.Stage, color='royalblue', marker='^', s=10)\n",
    "ax1.grid(True, which='both', linestyle='--', linewidth=0.5)\n",
    "ax1.set_title('Discharge vs Stage at Main Street site (MS)', fontsize=14, fontweight='bold', fontname=myfont)\n",
    "ax1.set_xlabel('Discharge (cms)', fontsize=12, fontweight='bold', fontname=myfont)\n",
    "ax1.set_ylabel('Stage (cm)', fontsize=12, fontweight='bold', fontname=myfont)\n",
    "\n",
    "# Second subplot\n",
    "ax2 = plt.subplot(1, 2, 2)  # 1 row, 2 columns, 2nd subplot\n",
    "ax2.scatter(df_WL1.Discharge_cms, df_WL2.Stage, color='green', marker='o', s=10)\n",
    "ax2.grid(True, which='both', linestyle='--', linewidth=0.5)\n",
    "ax2.set_title('Discharge vs Stage at Water Lab site (WL)', fontsize=14, fontweight='bold', fontname=myfont)\n",
    "ax2.set_xlabel('Discharge (cms)', fontsize=12, fontweight='bold', fontname=myfont)\n",
    "ax2.set_ylabel('Stage (cm)', fontsize=12, fontweight='bold', fontname=myfont)\n",
    "\n",
    "# plot\n",
    "# plt.savefig('1.1. Discharge vs Stage.png', dpi=300, transparent=True, bbox_inches='tight')\n",
    "\n",
    "# Show the plot\n",
    "#plt.show()"
   ]
  },
  {
   "cell_type": "code",
   "execution_count": null,
   "id": "18c83d20",
   "metadata": {
    "ExecuteTime": {
     "end_time": "2024-04-24T08:57:38.749987Z",
     "start_time": "2024-04-24T08:57:34.949474Z"
    }
   },
   "outputs": [],
   "source": [
    "# Setting the font to Times New Roman\n",
    "rcParams['font.family'] = 'serif'\n",
    "rcParams['font.serif'] = [myfont]\n",
    "\n",
    "# Create a figure and axis object\n",
    "fig, ax = plt.subplots(figsize=(5, 5), dpi=300)  # Note the change here to plt.subplots()\n",
    "\n",
    "# Plot the data\n",
    "ax.scatter(df_MS1.Discharge_cms, df_MS2.Stage, color='royalblue', marker='^', s=10, label='MS Site')\n",
    "ax.scatter(df_WL1.Discharge_cms, df_WL2.Stage, color='orange', marker='o', s=10, label='WL Site')\n",
    "\n",
    "# Customize the plot\n",
    "ax.grid(True, which='both', linestyle='--', linewidth=0.5)\n",
    "ax.set_title('Discharge vs Stage', fontsize=12, fontweight='bold', fontname=myfont)\n",
    "ax.set_xlabel('Discharge (m^3/s)', fontsize=10, fontweight='bold', fontname=myfont)\n",
    "ax.set_ylabel('Stage (cm)', fontsize=10, fontweight='bold', fontname=myfont)\n",
    "ax.legend(loc='best')  # Add a legend\n",
    "\n",
    "# plot\n",
    "plt.savefig('1.1. Discharge vs Stage.png', dpi=300, transparent=True, bbox_inches='tight')\n",
    "\n",
    "\n",
    "# Show the plot\n",
    "plt.show()\n"
   ]
  },
  {
   "cell_type": "markdown",
   "id": "c02ce6af",
   "metadata": {},
   "source": [
    "# 1.2: Descriptive statistic"
   ]
  },
  {
   "cell_type": "code",
   "execution_count": null,
   "id": "d7b02bb7",
   "metadata": {
    "ExecuteTime": {
     "end_time": "2024-04-24T08:57:39.274970Z",
     "start_time": "2024-04-24T08:57:38.971403Z"
    }
   },
   "outputs": [],
   "source": [
    "data = {\n",
    "    'MainStreet_Discharge (cms)': df_MS1.Discharge_cms,\n",
    "    'WaterLab_Discharge (cms)': df_WL1.Discharge_cms,\n",
    "    'MainStreet_Stage (cm)': df_MS2.Stage,\n",
    "    'WaterLab_Stage (cm)': df_WL2.Stage,\n",
    "}\n",
    "\n",
    "df = pd.DataFrame(data)\n",
    "\n",
    "# Calculating statistical metrics including geometric mean and standard deviation\n",
    "stats = df.agg(['mean', 'median', 'std', 'max', 'min']).T\n",
    "\n",
    "# Apply mask for geometric calculations\n",
    "positive_mask = df > 0\n",
    "\n",
    "# Safe function to calculate geometric mean and std avoiding non-positive values\n",
    "def safe_gmean(series):\n",
    "    filtered_series = series[series > 0]\n",
    "    if not filtered_series.empty:\n",
    "        return gmean(filtered_series)\n",
    "    return np.nan  # Return NaN if no positive values\n",
    "\n",
    "def safe_gstd(series):\n",
    "    filtered_series = np.log(series[series > 0])\n",
    "    if not filtered_series.empty:\n",
    "        return np.exp(np.std(filtered_series))\n",
    "    return np.nan\n",
    "\n",
    "stats['gmean'] = df.apply(safe_gmean, axis=0)\n",
    "stats['gstd'] = df.apply(safe_gstd, axis=0)\n",
    "\n",
    "# Visualization adjustments\n",
    "fig = plt.figure(figsize=(6, 3), dpi=300)\n",
    "ax = plt.subplot()\n",
    "\n",
    "ncols = 7\n",
    "nrows = stats.shape[0]\n",
    "\n",
    "ax.set_xlim(0, ncols + 1)\n",
    "ax.set_ylim(0, nrows + 1)\n",
    "\n",
    "# Positions and column names for the statistical metrics, added gmean and gstd\n",
    "positions = [1, 2, 3, 4, 5, 6, 7]\n",
    "column_names = ['Mean', 'Median', 'STD', 'Max', 'Min', 'G-Mean', 'G-STD']\n",
    "\n",
    "# Add table's main text with specified font size\n",
    "for i, (index, row) in enumerate(stats.iterrows()):\n",
    "    for j, (columnName, value) in enumerate(row.items()):\n",
    "        text_label = f'{value:.2f}' if not np.isnan(value) else 'n/a'\n",
    "        ax.annotate(text=text_label, xy=(positions[j], nrows-i-0.5), ha='center', va='center', fontsize=8, fontname=myfont)\n",
    "\n",
    "# Add column names with specified font size\n",
    "for index, name in enumerate(column_names):\n",
    "    ax.annotate(text=name, xy=(positions[index], nrows + 0.5), ha='center', va='bottom', weight='bold', fontsize=8, fontname=myfont)\n",
    "\n",
    "# Add dividing lines and series names\n",
    "for x in range(1, nrows + 1):\n",
    "    ax.plot([ax.get_xlim()[0], ax.get_xlim()[1]], [x, x], lw=1.15, color='gray', ls=':', zorder=3)\n",
    "\n",
    "for i, index in enumerate(stats.index):\n",
    "    ax.annotate(text=index, xy=(0.5, nrows-i-0.5), ha='right', va='center', weight='bold', fontsize=8, fontname=myfont)\n",
    "\n",
    "ax.set_axis_off()\n",
    "\n",
    "#plt.savefig('1. Descriptive statistic of datasets.png', dpi=300, transparent=True, bbox_inches='tight')\n",
    "\n",
    "plt.show()"
   ]
  },
  {
   "cell_type": "markdown",
   "id": "41373415",
   "metadata": {},
   "source": [
    "# 2: Time series"
   ]
  },
  {
   "cell_type": "code",
   "execution_count": null,
   "id": "ba9692e1",
   "metadata": {
    "ExecuteTime": {
     "end_time": "2024-04-24T08:57:40.133569Z",
     "start_time": "2024-04-24T08:57:39.276148Z"
    }
   },
   "outputs": [],
   "source": [
    "# Main Street\n",
    "\n",
    "# fig size\n",
    "plt.figure(figsize=(20, 6), dpi=300)\n",
    "\n",
    "# Create axes\n",
    "ax1 = plt.gca()\n",
    "ax2 = ax1.twinx()\n",
    "\n",
    "# Plotting\n",
    "ax1.plot(df_MS1.Discharge_cms, '-', color='red', label='Discharge', linewidth=1\n",
    "         #, marker='*'\n",
    "        )\n",
    "ax2.plot(df_MS2.Stage, '-.', color='royalblue', label='Stage', linewidth=2\n",
    "         #, marker='s'\n",
    "        )\n",
    "\n",
    "# Enhancements\n",
    "ax1.set_xlabel('Time', fontsize=22, fontweight= 'bold')\n",
    "ax1.set_ylabel('Discharge (m^3/s)', color='black', fontsize=22, fontweight= 'bold')\n",
    "ax2.set_ylabel('Stage (cm)', color='black', fontsize=22, fontweight= 'bold')\n",
    "\n",
    "ax1.tick_params(axis='y', labelcolor='black', labelsize=18)\n",
    "ax1.tick_params(axis='x', labelsize=18)\n",
    "ax2.tick_params(axis='y', labelcolor='black', labelsize=18)\n",
    "\n",
    "#ax1.xaxis.set_major_locator(mdates.YearLocator())\n",
    "#ax1.xaxis.set_major_formatter(mdates.DateFormatter('%Y'))\n",
    "ax1.grid(True, which='both', linestyle='--')\n",
    "\n",
    "# Legends\n",
    "ax1.legend(loc='upper left', fontsize=18)\n",
    "ax2.legend(loc='upper right', fontsize=18)\n",
    "\n",
    "plt.title('Discharge & Stage Time Series of MainStreet station', fontsize=28, fontweight= 'bold')\n",
    "plt.tight_layout()\n",
    "\n",
    "# Save the figure with high resolution\n",
    "#plt.savefig('2.1. Discharge & Stage Time Series of MainStreet station.png', dpi=300)\n",
    "\n",
    "plt.show()"
   ]
  },
  {
   "cell_type": "code",
   "execution_count": null,
   "id": "7a34c9c4",
   "metadata": {
    "ExecuteTime": {
     "end_time": "2024-04-24T08:57:41.219567Z",
     "start_time": "2024-04-24T08:57:40.134217Z"
    }
   },
   "outputs": [],
   "source": [
    "# Water lab\n",
    "\n",
    "# fig size\n",
    "plt.figure(figsize=(20, 6), dpi=300)\n",
    "\n",
    "# Create axes\n",
    "ax1 = plt.gca()\n",
    "ax2 = ax1.twinx()\n",
    "\n",
    "# Plotting\n",
    "#plt.subplot (1,2,1)\n",
    "ax1.plot(df_WL1.Discharge_cms, '-', color='red', label='Discharge', linewidth=1\n",
    "         #, marker='*'\n",
    "        )\n",
    "        \n",
    "ax2.plot(df_WL2.Stage, '-.', color='royalblue', label='Stage', linewidth=2\n",
    "         #, marker='s'\n",
    "        )\n",
    "\n",
    "# Enhancements\n",
    "ax1.set_xlabel('Time', fontsize=22, fontweight= 'bold')\n",
    "ax1.set_ylabel('Discharge (m^3/s)', color='black', fontsize=22, fontweight= 'bold')\n",
    "ax2.set_ylabel('Stage (cm)', color='black', fontsize=22, fontweight= 'bold')\n",
    "\n",
    "ax1.tick_params(axis='y', labelcolor='black', labelsize=18)\n",
    "ax1.tick_params(axis='x', labelsize=18)\n",
    "ax2.tick_params(axis='y', labelcolor='black', labelsize=18)\n",
    "\n",
    "#ax1.xaxis.set_major_locator(mdates.YearLocator())\n",
    "#ax1.xaxis.set_major_formatter(mdates.DateFormatter('%Y'))\n",
    "ax1.grid(True, which='both', linestyle='--')\n",
    "\n",
    "# Legends\n",
    "ax1.legend(loc='upper left', fontsize=18)\n",
    "ax2.legend(loc='upper right', fontsize=18)\n",
    "\n",
    "plt.title('Discharge & Stage Time Series of WaterLab station', fontsize=28, fontweight= 'bold')\n",
    "plt.tight_layout()\n",
    "\n",
    "# Save the figure with high resolution\n",
    "#plt.savefig('2.2. Discharge & Stage Time Series of WaterLab station.png', dpi=300)\n",
    "\n",
    "plt.show()"
   ]
  },
  {
   "cell_type": "code",
   "execution_count": null,
   "id": "5f32c6d2",
   "metadata": {
    "ExecuteTime": {
     "end_time": "2024-04-24T08:57:41.587303Z",
     "start_time": "2024-04-24T08:57:41.222335Z"
    },
    "scrolled": true
   },
   "outputs": [],
   "source": [
    "# discharge\n",
    "\n",
    "\n",
    "# Set figure size\n",
    "plt.figure(figsize=(20, 6))\n",
    "\n",
    "# Create a subplot\n",
    "ax01 = plt.subplot()\n",
    "\n",
    "# Plotting\n",
    "ax01.plot(df_WL1.Discharge_cms, '-', color='red', label='WaterLab', linewidth=1\n",
    "          #, marker='*'\n",
    "         )\n",
    "ax01.plot(df_MS1.Discharge_cms, '-', color='royalblue', label='MainStreet', linewidth=1\n",
    "          #, marker='*'\n",
    "         )\n",
    "\n",
    "\n",
    "# Enhancements\n",
    "ax01.set_xlabel('Time (year)', fontsize=22, fontweight= 'bold')\n",
    "ax01.set_ylabel('Discharge (m^3/s)', color='black', fontsize=22, fontweight= 'bold')\n",
    "ax01.tick_params(axis='y', labelcolor='black', labelsize=18)\n",
    "ax01.tick_params(axis='x', labelsize=18)\n",
    "ax01.grid(True, which='both', linestyle='--')\n",
    "\n",
    "# Legends\n",
    "ax01.legend(loc='upper left', fontsize=18)\n",
    "\n",
    "# Title\n",
    "plt.title('Discharge Time Series Comparison of stations', fontsize=28, fontweight= 'bold')\n",
    "plt.tight_layout()\n",
    "\n",
    "# Save the figure with high resolution\n",
    "#plt.savefig('2.3. Discharge Time Series Comparison of stations.png', dpi=300)\n",
    "\n",
    "# Display the plot\n",
    "plt.show()\n"
   ]
  },
  {
   "cell_type": "code",
   "execution_count": null,
   "id": "e30e6a58",
   "metadata": {
    "ExecuteTime": {
     "end_time": "2024-04-24T08:57:41.850999Z",
     "start_time": "2024-04-24T08:57:41.591552Z"
    }
   },
   "outputs": [],
   "source": [
    "# stage\n",
    "\n",
    "# Set figure size\n",
    "plt.figure(figsize=(20, 6))\n",
    "\n",
    "# Create a subplot\n",
    "ax01 = plt.subplot()\n",
    "\n",
    "# Plotting\n",
    "ax01.plot(df_WL2.Stage, '-', color='red', label='WaterLab', linewidth=1\n",
    "          #, marker='*'\n",
    "         )\n",
    "ax01.plot(df_MS2.Stage, '-', color='royalblue', label='MainStreet', linewidth=1\n",
    "          #, marker='*'\n",
    "         )\n",
    "\n",
    "\n",
    "# Enhancements\n",
    "ax01.set_xlabel('Time (year)', fontsize=22, fontweight= 'bold')\n",
    "ax01.set_ylabel('Stage (cm)', color='black', fontsize=22, fontweight= 'bold')\n",
    "ax01.tick_params(axis='y', labelcolor='black', labelsize=18)\n",
    "ax01.tick_params(axis='x', labelsize=18)\n",
    "ax01.grid(True, which='both', linestyle='--')\n",
    "\n",
    "# Legends\n",
    "ax01.legend(loc='upper left', fontsize=18)\n",
    "\n",
    "# Title\n",
    "plt.title('Stage Time Series Comparison of stations', fontsize=28, fontweight= 'bold')\n",
    "plt.tight_layout()\n",
    "\n",
    "# Save the figure with high resolution\n",
    "#plt.savefig('2.4. Stage Time Series Comparison of stations.png', dpi=300)\n",
    "\n",
    "# Display the plot\n",
    "plt.show()"
   ]
  },
  {
   "cell_type": "markdown",
   "id": "dfd73247",
   "metadata": {},
   "source": [
    "# 3: Histogram"
   ]
  },
  {
   "cell_type": "code",
   "execution_count": null,
   "id": "3cf96108",
   "metadata": {
    "ExecuteTime": {
     "end_time": "2024-04-24T08:57:42.510087Z",
     "start_time": "2024-04-24T08:57:41.851618Z"
    }
   },
   "outputs": [],
   "source": [
    "# Setup figure and axes\n",
    "plt.figure(figsize=(10, 5), dpi=300)\n",
    "\n",
    "# Normal Histogram\n",
    "ax1 = plt.subplot(1, 2, 1)\n",
    "ax1.hist(df_WL1['Discharge_cms'], alpha=0.7, label='WaterLab')\n",
    "ax1.hist(df_MS1['Discharge_cms'], alpha=0.7, label='MainStreet')\n",
    "ax1.set_title('Normal Discharge Histogram', fontdict={'fontsize': 14, 'fontweight': 'bold'})\n",
    "ax1.set_xlabel('Discharge (m^3/s)', fontdict={'fontsize': 12})\n",
    "ax1.set_ylabel('Count', fontdict={'fontsize': 12})\n",
    "ax1.legend(frameon=False)\n",
    "ax1.grid(True, which='both', linestyle='--', linewidth=0.5)\n",
    "\n",
    "# Logarithmic Histogram\n",
    "ax2 = plt.subplot(1, 2, 2)\n",
    "# Ensure that you filter out non-positive values for log-scale histogram\n",
    "filtered_WL1 = df_WL1[df_WL1['Discharge_cms'] > 0]\n",
    "filtered_MS1 = df_MS1[df_MS1['Discharge_cms'] > 0]\n",
    "# Define log bins\n",
    "log_bins = np.logspace(np.log10(filtered_WL1['Discharge_cms'].min()), \n",
    "                       np.log10(filtered_WL1['Discharge_cms'].max()), 50)\n",
    "ax2.hist(filtered_WL1['Discharge_cms'], bins=log_bins, alpha=0.7, label='WaterLab', density=True)\n",
    "ax2.hist(filtered_MS1['Discharge_cms'], bins=log_bins, alpha=0.7, label='MainStreet', density=True)\n",
    "ax2.set_title('Log Discharge Histogram', fontdict={'fontsize': 14, 'fontweight': 'bold'})\n",
    "ax2.set_xlabel('Discharge (m^3/s)', fontdict={'fontsize': 12})\n",
    "ax2.set_ylabel('Frequency', fontdict={'fontsize': 12})\n",
    "ax2.set_xscale('log')\n",
    "ax2.legend(frameon=False)\n",
    "ax2.grid(True, which='both', linestyle='--', linewidth=0.5)\n",
    "\n",
    "# Save the figure with high resolution\n",
    "#plt.savefig('3.1. Discharge_Histogram.png', dpi=300)\n",
    "\n",
    "# Display the plot\n",
    "plt.show()\n"
   ]
  },
  {
   "cell_type": "code",
   "execution_count": null,
   "id": "f922f0a1",
   "metadata": {
    "ExecuteTime": {
     "end_time": "2024-04-24T08:57:43.102990Z",
     "start_time": "2024-04-24T08:57:42.510638Z"
    }
   },
   "outputs": [],
   "source": [
    "# Setup figure and axes\n",
    "plt.figure(figsize=(10, 5), dpi=300)\n",
    "\n",
    "# Normal Histogram\n",
    "ax1 = plt.subplot(1, 2, 1)\n",
    "ax1.hist(df_WL2['Stage'], alpha=0.7, label='WaterLab')\n",
    "ax1.hist(df_MS2['Stage'], alpha=0.7, label='MainStreet')\n",
    "ax1.set_title('Normal Stage Histogram', fontdict={'fontsize': 14, 'fontweight': 'bold'})\n",
    "ax1.set_xlabel('Stage (cm)', fontdict={'fontsize': 12})\n",
    "ax1.set_ylabel('Count', fontdict={'fontsize': 12})\n",
    "ax1.legend(frameon=False)\n",
    "ax1.grid(True, which='both', linestyle='--', linewidth=0.5)\n",
    "\n",
    "# Logarithmic Histogram\n",
    "ax2 = plt.subplot(1, 2, 2)\n",
    "# Ensure that you filter out non-positive values for log-scale histogram\n",
    "filtered_WL2 = df_WL2[df_WL2['Stage'] > 0]\n",
    "filtered_MS2 = df_MS2[df_MS2['Stage'] > 0]\n",
    "# Define log bins\n",
    "log_bins = np.logspace(np.log10(filtered_WL2['Stage'].min()), \n",
    "                       np.log10(filtered_WL2['Stage'].max()), 50)\n",
    "ax2.hist(filtered_WL2['Stage'], bins=log_bins, alpha=0.7, label='WaterLab', density=True)\n",
    "ax2.hist(filtered_MS2['Stage'], bins=log_bins, alpha=0.7, label='MainStreet', density=True)\n",
    "ax2.set_title('Log Stage Histogram', fontdict={'fontsize': 14, 'fontweight': 'bold'})\n",
    "ax2.set_xlabel('Stage (cm)', fontdict={'fontsize': 12})\n",
    "ax2.set_ylabel('Frequency', fontdict={'fontsize': 12})\n",
    "ax2.set_xscale('log')\n",
    "ax2.legend(frameon=False)\n",
    "ax2.grid(True, which='both', linestyle='--', linewidth=0.5)\n",
    "\n",
    "# Save the figure with high resolution\n",
    "#plt.savefig('3.2. Stage_Histogram.png', dpi=300)\n",
    "\n",
    "# Display the plot\n",
    "plt.show()\n"
   ]
  },
  {
   "cell_type": "markdown",
   "id": "88c0d38b",
   "metadata": {},
   "source": [
    "# 4: Rescaling"
   ]
  },
  {
   "cell_type": "code",
   "execution_count": null,
   "id": "21c39688",
   "metadata": {
    "ExecuteTime": {
     "end_time": "2024-04-24T08:57:43.105835Z",
     "start_time": "2024-04-24T08:57:43.103620Z"
    }
   },
   "outputs": [],
   "source": [
    "def x_pdf(x): ##creates an x axis for plotting PDFs centered on the middle of histogram bins. Function takes the bin side locations returned from the hist commaand\n",
    "    return (x[0:len(x)-1]+x[1:len(x)])/2 \n",
    "\n",
    "def xr_cdf(x): ##creates an x axis for plotting the cdf\n",
    "    return x.sort_values(ascending=True)\n",
    "\n",
    "def recurrence(x): ##computes recurrence cdf for plotting\n",
    "    r_x=np.arange(1,len(x)+1,1,dtype='float')\n",
    "    return r_x"
   ]
  },
  {
   "cell_type": "code",
   "execution_count": null,
   "id": "18c7ba0b",
   "metadata": {
    "ExecuteTime": {
     "end_time": "2024-04-24T08:57:43.149621Z",
     "start_time": "2024-04-24T08:57:43.106500Z"
    }
   },
   "outputs": [],
   "source": [
    "# discharge dataset\n",
    "MS_bins=np.logspace(np.log10(df_MS1.Discharge_cms.min())*0.99,np.log10(df_MS1.Discharge_cms.max())*1.01,100)\n",
    "WL_bins=np.logspace(np.log10(df_WL1.Discharge_cms.min())*0.99,np.log10(df_WL1.Discharge_cms.max())*1.01,100)\n",
    "\n",
    "n_MS, bins_MS = np.histogram(df_MS1.Discharge_cms,bins=MS_bins,density=True)\n",
    "n_WL, bins_WL = np.histogram(df_WL1.Discharge_cms,bins=WL_bins,density=True)"
   ]
  },
  {
   "cell_type": "code",
   "execution_count": null,
   "id": "dcfe3b5b",
   "metadata": {
    "ExecuteTime": {
     "end_time": "2024-04-24T08:57:43.892284Z",
     "start_time": "2024-04-24T08:57:43.180936Z"
    }
   },
   "outputs": [],
   "source": [
    "# Set figure size\n",
    "plt.figure(figsize=(12, 5), dpi=300)\n",
    "\n",
    "# Create a subplot on the created figure\n",
    "ax2 = plt.subplot()\n",
    "\n",
    "# Plotting with markers, setting marker face color (mfc), marker edge color (mec), and using 'o' as marker\n",
    "ax2.plot(x_pdf(bins_MS), n_MS, 'o', mfc='royalblue', mec='k', label='MainStreet')\n",
    "ax2.plot(x_pdf(bins_WL), n_WL, '^', mfc='orange', mec='k', label='WaterLab')\n",
    "\n",
    "# Labeling and Styling\n",
    "ax2.set_xlabel('Discharge (m^3/s)', fontweight= 'bold', fontsize=18)\n",
    "ax2.set_ylabel('PDF', fontweight= 'bold', fontsize=18)\n",
    "ax2.tick_params(axis='both', which='both', labelsize=18, direction='in', width=1.5, pad=4)\n",
    "ax2.grid(True, which='both', linestyle='--', linewidth=0.5)\n",
    "\n",
    "# Adjusting spines for visibility\n",
    "for spine in ['top', 'right', 'left', 'bottom']:\n",
    "    ax2.spines[spine].set_linewidth(1.5)\n",
    "\n",
    "# Setting logarithmic scale for both axes to match the original intent\n",
    "ax2.set_xscale('log')\n",
    "ax2.set_yscale('log')\n",
    "\n",
    "# Legends and Title\n",
    "ax2.legend(loc='upper right', fontsize=12)\n",
    "plt.title('Rescaled Discharge Probability Distribution Functions', fontweight= 'bold', fontsize=20)\n",
    "\n",
    "# Ensure layout is tight so everything fits without overlap\n",
    "plt.tight_layout()\n",
    "\n",
    "\n",
    "# Save the figure with high resolution\n",
    "#plt.savefig('4. Rescaled Discharge Probability Distribution Functions.png', dpi=300)\n",
    "\n",
    "\n",
    "# Display the plot\n",
    "plt.show()\n"
   ]
  },
  {
   "cell_type": "markdown",
   "id": "7dcf3aab",
   "metadata": {},
   "source": [
    "# 5. Standardization of data"
   ]
  },
  {
   "cell_type": "code",
   "execution_count": null,
   "id": "8eb93d27",
   "metadata": {},
   "outputs": [],
   "source": [
    "def standard(x): ##standardizes the dataset\n",
    "    xl=np.log(x) #take the log of x\n",
    "    return (xl-np.mean(xl))/np.std(xl) #subtract the mean and divide by the standard deviation"
   ]
  },
  {
   "cell_type": "code",
   "execution_count": null,
   "id": "bf34dcec",
   "metadata": {
    "ExecuteTime": {
     "end_time": "2024-04-24T08:57:43.994306Z",
     "start_time": "2024-04-24T08:57:43.895977Z"
    }
   },
   "outputs": [],
   "source": [
    "import numpy as np\n",
    "import pandas as pd\n",
    "\n",
    "\n",
    "# deleting NaN\n",
    "cleaned_MS1 = df_MS1.Discharge_cms.dropna()\n",
    "cleaned_WL1 = df_WL1.Discharge_cms.dropna()\n",
    "\n",
    "# Standardaization\n",
    "standard_MS1 = standard(cleaned_MS1)\n",
    "standard_WL1 = standard(cleaned_WL1)\n",
    "\n",
    "# hist without NaN\n",
    "n_MS, bins_MS = np.histogram(standard_MS1, bins='fd', density=True)\n",
    "n_WL, bins_WL = np.histogram(standard_WL1, bins='fd', density=True)\n"
   ]
  },
  {
   "cell_type": "code",
   "execution_count": null,
   "id": "585da6a7",
   "metadata": {
    "ExecuteTime": {
     "end_time": "2024-04-24T08:57:44.441048Z",
     "start_time": "2024-04-24T08:57:44.069074Z"
    },
    "scrolled": false
   },
   "outputs": [],
   "source": [
    "# Set figure size\n",
    "plt.figure(figsize=(12, 5), dpi=300)\n",
    "\n",
    "# Create a subplot\n",
    "ax2 = plt.subplot()\n",
    "\n",
    "# Plotting with different markers, setting marker face color (mfc), marker edge color (mec), and using different markers for each dataset\n",
    "ax2.plot(x_pdf(bins_MS), n_MS, 'o', mfc='royalblue', mec='k', label='MainStreet')  # Circle marker for MainStreet\n",
    "ax2.plot(x_pdf(bins_WL), n_WL, 's', mfc='red', mec='k', alpha=0.65, label='WaterLab')  # Triangle marker for WaterLab with transparency\n",
    "\n",
    "# Labeling and Styling\n",
    "ax2.set_xlabel('Discharge (m^3/s)', fontweight= 'bold', fontsize=18)\n",
    "ax2.set_ylabel('PDF', fontweight= 'bold', fontsize=18)\n",
    "ax2.tick_params(axis='both', which='both', labelsize=14, direction='in', width=1.5, pad=4)\n",
    "ax2.grid(True, which='both', linestyle='--', linewidth=0.5)\n",
    "\n",
    "# Adjusting spines for visibility\n",
    "for spine in ['top', 'right', 'left', 'bottom']:\n",
    "    ax2.spines[spine].set_linewidth(1.5)\n",
    "\n",
    "# Setting logarithmic scale for both axes to match the original intent\n",
    "#ax2.set_xscale('log')\n",
    "#ax2.set_yscale('log')\n",
    "\n",
    "# Legends and Title\n",
    "ax2.legend(loc='upper right', fontsize=12)\n",
    "plt.title('Standardized Discharge Probability Distribution Functions', fontweight= 'bold', fontsize=20)\n",
    "\n",
    "# Ensure layout is tight so everything fits without overlap\n",
    "plt.tight_layout()\n",
    "\n",
    "# Save the figure with high resolution\n",
    "#plt.savefig('5. Standardized Discharge Probability Distribution Functions.png', dpi=300)\n",
    "\n",
    "\n",
    "\n",
    "# Display the plot\n",
    "plt.show()\n"
   ]
  },
  {
   "cell_type": "code",
   "execution_count": null,
   "id": "5d477ebe",
   "metadata": {
    "ExecuteTime": {
     "end_time": "2024-04-24T08:57:45.036675Z",
     "start_time": "2024-04-24T08:57:44.441879Z"
    }
   },
   "outputs": [],
   "source": [
    "import matplotlib.pyplot as plt\n",
    "\n",
    "# Your data generation code here\n",
    "# x_pdf, n_MS, bins_MS, n_WL, bins_WL would need to be defined prior to this plot code\n",
    "\n",
    "# Set figure size\n",
    "plt.figure(figsize=(12, 5), dpi=300)\n",
    "\n",
    "# Create a subplot\n",
    "ax2 = plt.subplot()\n",
    "\n",
    "# Plotting with different markers, setting marker face color (mfc), marker edge color (mec), and using different markers for each dataset\n",
    "ax2.plot(x_pdf(bins_MS), n_MS, 'o', mfc='royalblue', mec='k', label='MainStreet')  # Circle marker for MainStreet\n",
    "ax2.plot(x_pdf(bins_WL), n_WL, 's', mfc='red', mec='k', alpha=0.65, label='WaterLab')  # Square marker for WaterLab with transparency\n",
    "\n",
    "# Labeling and Styling\n",
    "ax2.set_xlabel('Discharge (m^3/s)', fontweight='bold', fontsize=18)\n",
    "ax2.set_ylabel('PDF', fontweight='bold', fontsize=18)\n",
    "ax2.tick_params(axis='both', which='both', labelsize=14, direction='in', width=1.5, pad=4)\n",
    "ax2.grid(True, which='both', linestyle='--', linewidth=0.5)\n",
    "\n",
    "# Adjusting spines for visibility\n",
    "for spine in ['top', 'right', 'left', 'bottom']:\n",
    "    ax2.spines[spine].set_linewidth(1.5)\n",
    "\n",
    "# Setting logarithmic scale for the y-axis\n",
    "ax2.set_yscale('log')\n",
    "\n",
    "# Legends and Title\n",
    "ax2.legend(loc='upper right', fontsize=12)\n",
    "plt.title('Standardized Discharge Probability Distribution Functions', fontweight='bold', fontsize=20)\n",
    "\n",
    "# Ensure layout is tight so everything fits without overlap\n",
    "plt.tight_layout()\n",
    "\n",
    "# Save the figure with high resolution\n",
    "#plt.savefig('5. Standardized Discharge Probability Distribution Functions.png', dpi=300)\n",
    "\n",
    "# Display the plot\n",
    "plt.show()\n"
   ]
  },
  {
   "cell_type": "markdown",
   "id": "40508fb3",
   "metadata": {},
   "source": [
    "# 6. Kernal Density Estimate (KDE) histogram"
   ]
  },
  {
   "cell_type": "code",
   "execution_count": null,
   "id": "75151d7f",
   "metadata": {
    "ExecuteTime": {
     "end_time": "2024-04-24T08:57:45.666113Z",
     "start_time": "2024-04-24T08:57:45.037465Z"
    }
   },
   "outputs": [],
   "source": [
    "import numpy as np\n",
    "from scipy.stats import gaussian_kde\n",
    "\n",
    "# فرض بر این است که تابع standard و دیتافریم‌ها قبلاً تعریف شده‌اند\n",
    "\n",
    "# تمیز کردن داده‌ها از مقادیر NaN و inf\n",
    "cleaned_data_MS = df_MS1.Discharge_cms.replace([np.inf, -np.inf], np.nan).dropna()\n",
    "cleaned_data_WL = df_WL1.Discharge_cms.replace([np.inf, -np.inf], np.nan).dropna()\n",
    "\n",
    "# استانداردسازی داده‌های تمیز شده\n",
    "standard_MS = standard(cleaned_data_MS)\n",
    "standard_WL = standard(cleaned_data_WL)\n",
    "\n",
    "# اجرای تابع kde بر روی داده‌های استاندارد شده\n",
    "kde_MS = gaussian_kde(standard_MS)\n",
    "kde_WL = gaussian_kde(standard_WL)\n",
    "\n",
    "# ایجاد آرایه‌هایی برای نمودار\n",
    "x_kde_MS = np.linspace(standard_MS.min(), standard_MS.max(), 100)\n",
    "x_kde_WL = np.linspace(standard_WL.min(), standard_WL.max(), 100)\n",
    "\n",
    "# محاسبه توزیع چگالی کرنل برای نمودار\n",
    "n_kde_MS = kde_MS.evaluate(x_kde_MS)\n",
    "n_kde_WL = kde_WL.evaluate(x_kde_WL)\n"
   ]
  },
  {
   "cell_type": "code",
   "execution_count": null,
   "id": "64cf1a9f",
   "metadata": {
    "ExecuteTime": {
     "end_time": "2024-04-24T08:57:46.438250Z",
     "start_time": "2024-04-24T08:57:45.667977Z"
    }
   },
   "outputs": [],
   "source": [
    "# Assuming x_kde_ys, n_kde_ys, x_kde_lr, n_kde_lr are defined\n",
    "# and the functions to compute n_kde_ys and n_kde_lr are correctly implemented\n",
    "\n",
    "# Set figure size to match the second code snippet\n",
    "plt.figure(figsize=(12, 5), dpi=300)\n",
    "\n",
    "# Create a subplot\n",
    "ax2 = plt.subplot()\n",
    "\n",
    "# Plotting kernel density estimates (KDE) for the provided datasets\n",
    "# Note: The corrected implementation assumes n_kde_ys and n_kde_lr are arrays, not functions.\n",
    "ax2.plot(x_kde_MS, n_kde_MS, '-', color='navy', linewidth=1.5, label='MainStreet - KDE')\n",
    "ax2.plot(x_kde_WL, n_kde_WL, '-', color='darkgreen', linewidth=1.5, label='WaterLab - KDE')\n",
    "\n",
    "\n",
    "# Labeling and Styling to match the enhanced style of the second code snippet\n",
    "ax2.set_xlabel('Discharge (m^3/s)', fontweight='bold', fontsize=16)\n",
    "ax2.set_ylabel('PDF', fontweight='bold', fontsize=16)\n",
    "ax2.tick_params(axis='both', which='both', labelsize=14, direction='in', width=1.5, pad=4)\n",
    "ax2.grid(True, which='both', linestyle='--')\n",
    "\n",
    "# Adjusting spines for visibility\n",
    "for spine in ['top', 'right', 'left', 'bottom']:\n",
    "    ax2.spines[spine].set_linewidth(1.5)\n",
    "\n",
    "# Legends and Title to match the second code snippet's approach\n",
    "ax2.legend(loc='upper right', fontsize=12)\n",
    "plt.title('KDE Discharge Probability Distribution Functions', fontweight='bold', fontsize=18)\n",
    "\n",
    "# Ensure layout is tight so everything fits without overlap\n",
    "plt.tight_layout()\n",
    "\n",
    "# Save the figure with high resolution\n",
    "plt.savefig('6. KDE Discharge Probability Distribution Functions.png', dpi=300)\n",
    "\n",
    "\n",
    "\n",
    "# Display the plot\n",
    "plt.show()\n"
   ]
  },
  {
   "cell_type": "code",
   "execution_count": null,
   "id": "b8461401",
   "metadata": {
    "ExecuteTime": {
     "end_time": "2024-04-24T08:57:47.615539Z",
     "start_time": "2024-04-24T08:57:46.439071Z"
    }
   },
   "outputs": [],
   "source": [
    "import numpy as np\n",
    "from scipy.stats import gaussian_kde\n",
    "import matplotlib.pyplot as plt\n",
    "\n",
    "# Assuming 'df_MS2' and 'df_WL2' are defined and 'standard' function is properly implemented\n",
    "# Clean the data of NaN and infinite values thoroughly\n",
    "cleaned_data_MS = df_MS2['Stage'].replace([np.inf, -np.inf], np.nan).dropna()\n",
    "cleaned_data_WL = df_WL2['Stage'].replace([np.inf, -np.inf], np.nan).dropna()\n",
    "\n",
    "# Check if there are any remaining NaNs or Infs\n",
    "print(\"MS2 Clean Data Stats:\", cleaned_data_MS.isna().sum(), cleaned_data_MS.isin([np.inf, -np.inf]).sum())\n",
    "print(\"WL2 Clean Data Stats:\", cleaned_data_WL.isna().sum(), cleaned_data_WL.isin([np.inf, -np.inf]).sum())\n",
    "\n",
    "# Standardize the cleaned data\n",
    "standard_MS = standard(cleaned_data_MS)\n",
    "standard_WL = standard(cleaned_data_WL)\n",
    "\n",
    "# Check if standardization introduced any NaNs or Infs\n",
    "print(\"Standard MS2 Data Stats:\", np.isnan(standard_MS).sum(), np.isinf(standard_MS).sum())\n",
    "print(\"Standard WL2 Data Stats:\", np.isnan(standard_WL).sum(), np.isinf(standard_WL).sum())\n",
    "\n",
    "# Attempt to execute the KDE function on standardized data\n",
    "try:\n",
    "    kde_MS = gaussian_kde(standard_MS)\n",
    "    kde_WL = gaussian_kde(standard_WL)\n",
    "except Exception as e:\n",
    "    print(\"Error in KDE computation:\", e)\n",
    "\n",
    "# Create arrays for the KDE plot\n",
    "x_kde_MS = np.linspace(min(standard_MS), max(standard_MS), 100)\n",
    "x_kde_WL = np.linspace(min(standard_WL), max(standard_WL), 100)\n",
    "\n",
    "# Compute kernel density estimates for plotting\n",
    "n_kde_MS = kde_MS.evaluate(x_kde_MS)\n",
    "n_kde_WL = kde_WL.evaluate(x_kde_WL)\n",
    "\n",
    "# Plotting\n",
    "plt.figure(figsize=(12, 5), dpi=300)\n",
    "ax2 = plt.subplot()\n",
    "ax2.plot(x_kde_MS, n_kde_MS, '-', color='navy', linewidth=1.5, label='MainStreet - KDE')\n",
    "ax2.plot(x_kde_WL, n_kde_WL, '-', color='darkgreen', linewidth=1.5, label='WaterLab - KDE')\n",
    "ax2.set_xlabel('Standardized Stage (cm)', fontsize=14)\n",
    "ax2.set_ylabel('PDF', fontsize=14)\n",
    "ax2.tick_params(axis='both', which='both', labelsize=14, direction='in', width=1.5, pad=4)\n",
    "ax2.grid(True, which='both', linestyle='--')\n",
    "for spine in ['top', 'right', 'left', 'bottom']:\n",
    "    ax2.spines[spine].set_linewidth(1.5)\n",
    "ax2.legend(loc='upper right', fontsize=12)\n",
    "plt.title('KDE Stage Probability Distribution Functions', fontsize=16)\n",
    "plt.tight_layout()\n",
    "plt.show()\n"
   ]
  },
  {
   "cell_type": "markdown",
   "id": "48795100",
   "metadata": {},
   "source": [
    "# 7: Recurrence intervals"
   ]
  },
  {
   "cell_type": "code",
   "execution_count": null,
   "id": "57dbc038",
   "metadata": {
    "ExecuteTime": {
     "end_time": "2024-04-24T08:57:47.630939Z",
     "start_time": "2024-04-24T08:57:47.616113Z"
    }
   },
   "outputs": [],
   "source": [
    "# discharge datasets\n",
    "MS1_peak=df_MS1['Discharge_cms'].resample('Y').max()\n",
    "WL1_peak=df_WL1['Discharge_cms'].resample('Y').max()"
   ]
  },
  {
   "cell_type": "code",
   "execution_count": null,
   "id": "b6b32a54",
   "metadata": {
    "ExecuteTime": {
     "end_time": "2024-04-24T08:57:48.007572Z",
     "start_time": "2024-04-24T08:57:47.631614Z"
    }
   },
   "outputs": [],
   "source": [
    "import matplotlib.pyplot as plt\n",
    "import numpy as np\n",
    "\n",
    "# Set figure size to match code 2 style\n",
    "plt.figure(figsize=(12, 5), dpi=300)\n",
    "\n",
    "# Create a subplot\n",
    "ax4 = plt.subplot()\n",
    "\n",
    "# Plotting with specific markers, matching colors, and including labels for clarity\n",
    "ax4.plot(recurrence(MS1_peak), xr_cdf(MS1_peak) / np.mean(MS1_peak), 'o', mfc='royalblue', mec='k', label='MainStreet - Normalized Peak Discharge')  # Circle marker for MS1\n",
    "ax4.plot(recurrence(WL1_peak), xr_cdf(WL1_peak) / np.mean(WL1_peak), 's', mfc='red', mec='k', label='WaterLab - Normalized Peak Discharge')  # Triangle marker for WL1\n",
    "\n",
    "# Labeling and Styling to match code 2\n",
    "ax4.set_xlabel('Recurrence Interval (year)', fontweight= 'bold', fontsize=16)\n",
    "ax4.set_ylabel('Annual Peak / Average Peak', fontweight= 'bold', fontsize=16)\n",
    "ax4.tick_params(axis='both', which='both', labelsize=14, direction='in', width=1.5, pad=4)\n",
    "ax4.grid(True, which='both', linestyle='--', linewidth=0.5)\n",
    "\n",
    "# Adjusting spines for visibility\n",
    "for spine in ['top', 'right', 'left', 'bottom']:\n",
    "    ax4.spines[spine].set_linewidth(1.5)\n",
    "\n",
    "# Legends and Title\n",
    "ax4.legend(loc='upper left', fontsize=12)\n",
    "plt.title('Normalized Annual Peak Discharge Recurrence Intervals', fontweight= 'bold', fontsize=20)\n",
    "\n",
    "# Ensure layout is tight so everything fits without overlap\n",
    "plt.tight_layout()\n",
    "\n",
    "# Save the figure with high resolution\n",
    "#plt.savefig('7.1 Normalized Annual Peak Discharge Recurrence Intervals.png', dpi=300)\n",
    "\n",
    "# Display the plot\n",
    "plt.show()\n"
   ]
  },
  {
   "cell_type": "code",
   "execution_count": null,
   "id": "c5e8cea4",
   "metadata": {
    "ExecuteTime": {
     "end_time": "2024-04-24T08:57:48.041263Z",
     "start_time": "2024-04-24T08:57:48.012526Z"
    }
   },
   "outputs": [],
   "source": [
    "# stage datasets\n",
    "MS2_peak=df_MS2['Stage'].resample('Y').max()\n",
    "\n",
    "WL2_peak=df_WL2['Stage'].resample('Y').max()"
   ]
  },
  {
   "cell_type": "code",
   "execution_count": null,
   "id": "304c3815",
   "metadata": {
    "ExecuteTime": {
     "end_time": "2024-04-24T08:57:48.430173Z",
     "start_time": "2024-04-24T08:57:48.042964Z"
    },
    "scrolled": true
   },
   "outputs": [],
   "source": [
    "import matplotlib.pyplot as plt\n",
    "import numpy as np\n",
    "\n",
    "# Assuming recurrence, xr_cdf, MS1_peak, TG1_peak, WL1_peak functions/variables are defined\n",
    "\n",
    "# Set figure size to match code 2 style\n",
    "plt.figure(figsize=(12, 5), dpi=300)\n",
    "\n",
    "# Create a subplot\n",
    "ax4 = plt.subplot()\n",
    "\n",
    "# Plotting with specific markers, matching colors, and including labels for clarity\n",
    "ax4.plot(recurrence(MS2_peak), xr_cdf(MS2_peak) / np.mean(MS2_peak), 'o', mfc='royalblue', mec='k', label='MainStreet - Normalized Peak Stage')  # Circle marker for MS1\n",
    "ax4.plot(recurrence(WL2_peak), xr_cdf(WL2_peak) / np.mean(WL2_peak), '^', mfc='red', mec='k', label='WaterLab - Normalized Peak Stage')  # Triangle marker for WL1\n",
    "\n",
    "# Labeling and Styling to match code 2\n",
    "ax4.set_xlabel('Recurrence Interval (year)', fontweight= 'bold', fontsize=16)\n",
    "ax4.set_ylabel('Annual Peak / Average Peak', fontweight= 'bold', fontsize=16)\n",
    "ax4.tick_params(axis='both', which='both', labelsize=14, direction='in', width=1.5, pad=4)\n",
    "ax4.grid(True, which='both', linestyle='--', linewidth=0.5)\n",
    "\n",
    "# Adjusting spines for visibility\n",
    "for spine in ['top', 'right', 'left', 'bottom']:\n",
    "    ax4.spines[spine].set_linewidth(1.5)\n",
    "\n",
    "# Legends and Title\n",
    "ax4.legend(loc='upper left', fontsize=12)\n",
    "plt.title('Normalized Annual Peak Stage Recurrence Intervals', fontweight= 'bold', fontsize=20)\n",
    "\n",
    "# Ensure layout is tight so everything fits without overlap\n",
    "plt.tight_layout()\n",
    "\n",
    "# Save the figure with high resolution\n",
    "#plt.savefig('7.2. Normalized Annual Peak Stage Recurrence Intervals.png', dpi=300)\n",
    "\n",
    "# Display the plot\n",
    "plt.show()"
   ]
  },
  {
   "cell_type": "markdown",
   "id": "dbbd3e3d",
   "metadata": {},
   "source": [
    "# 8. Coefficient of determination (R2)"
   ]
  },
  {
   "cell_type": "code",
   "execution_count": null,
   "id": "9ea32059",
   "metadata": {
    "ExecuteTime": {
     "end_time": "2024-04-24T08:57:48.435804Z",
     "start_time": "2024-04-24T08:57:48.431966Z"
    }
   },
   "outputs": [],
   "source": [
    "print(len(df_MS1), len(df_MS2))\n",
    "print(len(df_WL1), len(df_WL2))"
   ]
  },
  {
   "cell_type": "code",
   "execution_count": null,
   "id": "6d21ae05",
   "metadata": {},
   "outputs": [],
   "source": [
    "from sklearn.metrics import r2_score\n",
    "\n"
   ]
  },
  {
   "cell_type": "code",
   "execution_count": null,
   "id": "a7b63080",
   "metadata": {
    "ExecuteTime": {
     "end_time": "2024-04-24T08:57:48.826197Z",
     "start_time": "2024-04-24T08:57:48.437702Z"
    }
   },
   "outputs": [],
   "source": [
    "# Merge the datasets for Water Lab\n",
    "df_merged_WL = pd.merge(df_WL1, df_WL2, on='LocalDateTime', how='inner')\n",
    "df_reduced_WL = df_merged_WL[['Discharge_cms', 'Stage']]\n",
    "df_reduced_WL = df_reduced_WL.dropna(subset=['Discharge_cms', 'Stage'])\n",
    "\n",
    "# Fit the linear regression model for Water Lab\n",
    "model_WL = LinearRegression()\n",
    "X_WL = df_reduced_WL[['Discharge_cms']]\n",
    "y_WL = df_reduced_WL['Stage']\n",
    "model_WL.fit(X_WL, y_WL)\n",
    "predictions_WL = model_WL.predict(X_WL)\n",
    "r_squared_WL = r2_score(y_WL, predictions_WL)\n",
    "\n",
    "# Merge the datasets for MS\n",
    "df_merged_MS = pd.merge(df_MS1, df_MS2, on='LocalDateTime', how='inner')\n",
    "df_reduced_MS = df_merged_MS[['Discharge_cms', 'Stage']]\n",
    "df_reduced_MS = df_reduced_MS.dropna(subset=['Discharge_cms', 'Stage'])\n",
    "\n",
    "# Fit the linear regression model for MS\n",
    "model_MS = LinearRegression()\n",
    "X_MS = df_reduced_MS[['Discharge_cms']]\n",
    "y_MS = df_reduced_MS['Stage']\n",
    "model_MS.fit(X_MS, y_MS)\n",
    "predictions_MS = model_MS.predict(X_MS)\n",
    "r_squared_MS = r2_score(y_MS, predictions_MS)\n",
    "\n",
    "# Create a summary DataFrame to display the results\n",
    "results_df = pd.DataFrame({\n",
    "    \"Location\": [\"Water Lab (WL)\", \"MainStreet\"],\n",
    "    \"R^2 Value\": [r_squared_WL, r_squared_MS]\n",
    "})\n",
    "\n",
    "print(results_df)\n"
   ]
  },
  {
   "cell_type": "markdown",
   "id": "f22623b4",
   "metadata": {},
   "source": [
    "# 9. Autocorrelation"
   ]
  },
  {
   "cell_type": "code",
   "execution_count": null,
   "id": "60c7739d",
   "metadata": {
    "ExecuteTime": {
     "end_time": "2024-04-24T08:57:48.827094Z",
     "start_time": "2024-04-24T08:57:48.827050Z"
    }
   },
   "outputs": [],
   "source": [
    "# Discharge\n",
    "\n",
    "# Mainstreet \n",
    "# Using 'missing='conservative'' to handle missing data by omitting NaNs\n",
    "acf_result_MS = sm.tsa.acf(df_MS1.Discharge_cms, nlags=int(len(df_MS1)/2), fft=True, missing='conservative')\n",
    "# Generate a sequence of lag values in years for the ACF plot\n",
    "lags_in_years_MS = np.arange(len(acf_result_MS)) / 365\n",
    "\n",
    "# WaterLab\n",
    "# Using 'missing='conservative'' to handle missing data by omitting NaNs\n",
    "acf_result_WL = sm.tsa.acf(df_WL1.Discharge_cms, nlags=int(len(df_WL1)/2), fft=True, missing='conservative')\n",
    "# Generate a sequence of lag values in years for the ACF plot\n",
    "lags_in_years_WL = np.arange(len(acf_result_WL)) / 365\n",
    "\n",
    "\n",
    "# Creating a figure with two subplots (vertical layout)\n",
    "fig, (ax1, ax2) = plt.subplots(2, 1, figsize=(12, 8), dpi=300)\n",
    "# Plotting\n",
    "ax1.plot(df_WL1.Discharge_cms, '-', color='green', label='WaterLab', linewidth=1, marker='*')\n",
    "ax1.plot(df_MS1.Discharge_cms, '-', color='royalblue', label='MainStreet', linewidth=1, marker='*')\n",
    "ax1.set_title('Discharge Time Series' , fontweight= 'bold', fontsize=20)\n",
    "ax1.set_xlabel('Time', fontweight= 'bold', fontsize=16)\n",
    "ax1.set_ylabel('Discharge (m³/s)', fontweight= 'bold', fontsize=16)\n",
    "ax1.legend (loc='upper left')\n",
    "ax1.grid(True, linestyle='--')\n",
    "\n",
    "\n",
    "# Autocorrelation Function (ACF) Plot\n",
    "#ax2.plot(lags_in_years_MS, acf_result_MS, linestyle='-',  marker='.', color='green')\n",
    "ax2.plot(lags_in_years_MS, acf_result_MS, linestyle='-', color='royalblue', label='MainStreet', linewidth=1, marker='*')\n",
    "ax2.plot(lags_in_years_WL, acf_result_WL, linestyle='-', color='green', label='WaterLab', linewidth=1, marker='*')\n",
    "ax2.set_title('Discharge Autocorrelation Function (ACF)', fontweight= 'bold', fontsize=20)\n",
    "ax2.set_xlabel('Time Lags (Years)', fontweight= 'bold', fontsize=16)\n",
    "ax2.set_ylabel('Autocorrelation', fontweight= 'bold', fontsize=16)\n",
    "ax2.legend (loc='upper right')\n",
    "ax2.grid(True, linestyle='--')\n",
    "\n",
    "\n",
    "plt.tight_layout()  # Adjust layout to prevent overlap\n",
    "\n",
    "\n",
    "#plt.savefig('9.1. Discharge Autocorrelation Function (ACF) .png', dpi=300)\n",
    "\n",
    "\n",
    "plt.show()  # Display the plots\n"
   ]
  },
  {
   "cell_type": "code",
   "execution_count": null,
   "id": "f8e6d253",
   "metadata": {},
   "outputs": [],
   "source": [
    "# Stage\n",
    "\n",
    "# Mainstreet \n",
    "# Using 'missing='conservative'' to handle missing data by omitting NaNs\n",
    "acf_result_MS = sm.tsa.acf(df_MS2.Stage, nlags=int(len(df_MS2)/2), fft=True, missing='conservative')\n",
    "# Generate a sequence of lag values in years for the ACF plot\n",
    "lags_in_years_MS = np.arange(len(acf_result_MS)) / 365\n",
    "\n",
    "# WaterLab\n",
    "# Using 'missing='conservative'' to handle missing data by omitting NaNs\n",
    "acf_result_WL = sm.tsa.acf(df_WL2.Stage, nlags=int(len(df_WL2)/2), fft=True, missing='conservative')\n",
    "# Generate a sequence of lag values in years for the ACF plot\n",
    "lags_in_years_WL = np.arange(len(acf_result_WL)) / 365\n",
    "\n",
    "\n",
    "# Creating a figure with two subplots (vertical layout)\n",
    "fig, (ax1, ax2) = plt.subplots(2, 1, figsize=(12, 8), dpi=300)\n",
    "# Plotting\n",
    "ax1.plot(df_WL2.Stage, '-', color='orange', label='WaterLab', linewidth=1, marker='*')\n",
    "ax1.plot(df_MS2.Stage, '-', color='royalblue', label='MainStreet', linewidth=1, marker='*')\n",
    "ax1.set_title('Stage Time Series', fontweight= 'bold', fontsize=20)\n",
    "ax1.set_xlabel('Time', fontweight= 'bold', fontsize=16)\n",
    "ax1.set_ylabel('Stage (cm)', fontweight= 'bold', fontsize=16)\n",
    "ax1.legend (loc='upper left')\n",
    "ax1.grid(True, linestyle='--')\n",
    "\n",
    "\n",
    "# Autocorrelation Function (ACF) Plot\n",
    "#ax2.plot(lags_in_years_MS, acf_result_MS, linestyle='-',  marker='.', color='green')\n",
    "ax2.plot(lags_in_years_MS, acf_result_MS, linestyle='-', color='royalblue', label='MainStreet', linewidth=1, marker='*')\n",
    "ax2.plot(lags_in_years_WL, acf_result_WL, linestyle='-', color='orange', label='WaterLab', linewidth=1, marker='*')\n",
    "ax2.set_title('Stage Autocorrelation Function (ACF)', fontweight= 'bold', fontsize=20)\n",
    "ax2.set_xlabel('Time Lags (Years)', fontweight= 'bold', fontsize=16)\n",
    "ax2.set_ylabel('Autocorrelation', fontweight= 'bold', fontsize=16)\n",
    "ax2.legend (loc='upper right')\n",
    "ax2.grid(True, linestyle='--')\n",
    "\n",
    "\n",
    "plt.tight_layout()  # Adjust layout to prevent overlap\n",
    "\n",
    "\n",
    "#plt.savefig('9.2. Stage Autocorrelation Function (ACF) .png', dpi=300)\n",
    "\n",
    "\n",
    "plt.show()  # Display the plots\n"
   ]
  },
  {
   "cell_type": "markdown",
   "id": "157c4164",
   "metadata": {},
   "source": [
    "# 10. Cross-Correlation"
   ]
  },
  {
   "cell_type": "code",
   "execution_count": null,
   "id": "047301e6",
   "metadata": {
    "ExecuteTime": {
     "end_time": "2024-04-24T08:57:48.921195Z",
     "start_time": "2024-04-24T08:57:48.880576Z"
    }
   },
   "outputs": [],
   "source": [
    "# Discharge\n",
    "\n",
    "df_combined = df_WL1.merge(df_MS1,how='inner',left_index=True,right_index=True)\n",
    "df_combined = df_combined.interpolate()\n",
    "df_combined = df_combined.fillna(0)\n",
    "df_combined = df_combined.dropna()\n",
    "#df_combined.head()"
   ]
  },
  {
   "cell_type": "code",
   "execution_count": null,
   "id": "4161f3e8",
   "metadata": {
    "ExecuteTime": {
     "end_time": "2024-04-24T08:57:48.934821Z",
     "start_time": "2024-04-24T08:57:48.934352Z"
    }
   },
   "outputs": [],
   "source": [
    "X = df_combined.Discharge_cms_x.values ##x variable hydograph 1.\n",
    "Y = df_combined.Discharge_cms_y.values ##y variable\n",
    "acf_result = sm.tsa.stattools.ccf(Y,X,adjusted=False) #statsmodels cross correlation function.\n",
    "lags_in_years = np.arange(len(acf_result))/365 #x vector for plotting"
   ]
  },
  {
   "cell_type": "code",
   "execution_count": null,
   "id": "71502d00",
   "metadata": {
    "ExecuteTime": {
     "end_time": "2024-04-24T08:57:48.936815Z",
     "start_time": "2024-04-24T08:57:48.936672Z"
    }
   },
   "outputs": [],
   "source": [
    "# Creating a figure with two subplots (vertical layout)\n",
    "fig, (ax1, ax2) = plt.subplots(2, 1, figsize=(12, 8), dpi=300)\n",
    "\n",
    "# Time Series Plot\n",
    "\n",
    "#ax1.plot(df_WL2.Stage, '-', color='orange', label='WaterLab', linewidth=1, marker='*')\n",
    "#ax1.plot(df_MS2.Stage, '-', color='royalblue', label='MainStreet', linewidth=1, marker='*')\n",
    "\n",
    "ax1.plot(df_combined.index, df_combined.Discharge_cms_x, color='royalblue', linestyle='-', label='MainStreet', linewidth=1, marker='*')\n",
    "ax1.plot(df_combined.index, df_combined.Discharge_cms_y, color='orange', linestyle='-', label='WaterLab', linewidth=1, marker='*')\n",
    "\n",
    "ax1.set_title('Discharge Time Series', fontweight= 'bold', fontsize=20)\n",
    "ax1.set_xlabel('Time', fontweight= 'bold', fontsize=16)\n",
    "ax1.set_ylabel('Discharge (m³/s)', fontweight= 'bold', fontsize=16)\n",
    "ax1.legend (loc='upper left')\n",
    "ax1.grid(True, linestyle='--')\n",
    "\n",
    "# Autocorrelation Function (ACF) Plot\n",
    "ax2.plot(lags_in_years, acf_result, linestyle='-',  marker='.', color='green')\n",
    "ax2.set_title('Cross-Correlation', fontweight= 'bold', fontsize=20)\n",
    "ax2.set_xlabel('Time Lags (Years)', fontweight= 'bold', fontsize=16)\n",
    "ax2.set_ylabel('Cross-Correlation', fontweight= 'bold', fontsize=16)\n",
    "#ax2.legend (loc='upper right')\n",
    "ax2.grid(True, linestyle='--')\n",
    "\n",
    "plt.tight_layout()  # Adjust layout to prevent overlap\n",
    "plt.savefig('10.1. Discharge Time Series with Cross correlation .png', dpi=300)\n",
    "plt.show()  # Display the plots"
   ]
  },
  {
   "cell_type": "code",
   "execution_count": null,
   "id": "a7906ef5",
   "metadata": {
    "ExecuteTime": {
     "end_time": "2024-04-24T08:57:48.938203Z",
     "start_time": "2024-04-24T08:57:48.938039Z"
    }
   },
   "outputs": [],
   "source": [
    "# Stage\n",
    "\n",
    "df_combined = df_WL2.merge(df_MS2,how='inner',left_index=True,right_index=True)\n",
    "df_combined = df_combined.interpolate()\n",
    "df_combined = df_combined.fillna(0)\n",
    "df_combined = df_combined.dropna()\n",
    "#df_combined.head()"
   ]
  },
  {
   "cell_type": "code",
   "execution_count": null,
   "id": "45babe22",
   "metadata": {
    "ExecuteTime": {
     "end_time": "2024-04-24T08:57:48.939274Z",
     "start_time": "2024-04-24T08:57:48.939141Z"
    }
   },
   "outputs": [],
   "source": [
    "X = df_combined.Stage_x.values ##x variable hydograph 1.\n",
    "Y = df_combined.Stage_y.values ##y variable\n",
    "acf_result = sm.tsa.stattools.ccf(Y,X,adjusted=False) #statsmodels cross correlation function.\n",
    "lags_in_years = np.arange(len(acf_result))/365 #x vector for plotting"
   ]
  },
  {
   "cell_type": "code",
   "execution_count": null,
   "id": "1786545a",
   "metadata": {
    "ExecuteTime": {
     "end_time": "2024-04-24T08:57:48.940970Z",
     "start_time": "2024-04-24T08:57:48.940571Z"
    }
   },
   "outputs": [],
   "source": [
    "# Creating a figure with two subplots (vertical layout)\n",
    "fig, (ax1, ax2) = plt.subplots(2, 1, figsize=(12, 8), dpi=300)\n",
    "\n",
    "# Time Series Plot\n",
    "ax1.plot(df_combined.index, df_combined.Stage_x, color='royalblue', linestyle='-', label='MainStreet', linewidth=1, marker='*')\n",
    "ax1.plot(df_combined.index, df_combined.Stage_y, color='orange', linestyle='-', label='WaterLab', linewidth=1, marker='*')\n",
    "\n",
    "ax1.set_title('Stage Time Series', fontweight= 'bold', fontsize=20)\n",
    "ax1.set_xlabel('Time', fontweight= 'bold', fontsize=16)\n",
    "ax1.set_ylabel('Stage (cm)', fontweight= 'bold', fontsize=16)\n",
    "ax1.legend (loc='upper left')\n",
    "ax1.grid(True, linestyle='--')\n",
    "\n",
    "# Autocorrelation Function (ACF) Plot\n",
    "ax2.plot(lags_in_years, acf_result, linestyle='-',  marker='.', color='black')\n",
    "ax2.set_title('Cross-Correlation', fontweight= 'bold', fontsize=20)\n",
    "ax2.set_xlabel('Time Lags (Years)', fontweight= 'bold', fontsize=16)\n",
    "ax2.set_ylabel('Cross-Correlation', fontweight= 'bold', fontsize=16)\n",
    "#ax2.legend (loc='upper right')\n",
    "ax2.grid(True, linestyle='--')\n",
    "\n",
    "plt.tight_layout()  # Adjust layout to prevent overlap\n",
    "#plt.savefig('10.2. Stage Time Series with Cross correlation .png', dpi=300)\n",
    "plt.show()  # Display the plots"
   ]
  },
  {
   "cell_type": "code",
   "execution_count": null,
   "id": "2921c534",
   "metadata": {
    "ExecuteTime": {
     "end_time": "2024-04-24T08:57:48.942656Z",
     "start_time": "2024-04-24T08:57:48.942131Z"
    }
   },
   "outputs": [],
   "source": []
  },
  {
   "cell_type": "code",
   "execution_count": null,
   "id": "51617333",
   "metadata": {
    "ExecuteTime": {
     "end_time": "2024-04-24T08:57:48.944286Z",
     "start_time": "2024-04-24T08:57:48.943855Z"
    }
   },
   "outputs": [],
   "source": []
  }
 ],
 "metadata": {
  "kernelspec": {
   "display_name": "ytapi",
   "language": "python",
   "name": "python3"
  },
  "language_info": {
   "codemirror_mode": {
    "name": "ipython",
    "version": 3
   },
   "file_extension": ".py",
   "mimetype": "text/x-python",
   "name": "python",
   "nbconvert_exporter": "python",
   "pygments_lexer": "ipython3",
   "version": "3.10.14"
  }
 },
 "nbformat": 4,
 "nbformat_minor": 5
}
